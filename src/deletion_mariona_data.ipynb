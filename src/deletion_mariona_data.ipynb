{
 "cells": [
  {
   "cell_type": "code",
   "execution_count": 1,
   "metadata": {},
   "outputs": [
    {
     "name": "stderr",
     "output_type": "stream",
     "text": [
      "/Users/yigitfatihcakilli/opt/anaconda3/envs/cwq/lib/python3.9/site-packages/pandas/core/computation/expressions.py:21: UserWarning: Pandas requires version '2.8.4' or newer of 'numexpr' (version '2.8.1' currently installed).\n",
      "  from pandas.core.computation.check import NUMEXPR_INSTALLED\n",
      "/Users/yigitfatihcakilli/opt/anaconda3/envs/cwq/lib/python3.9/site-packages/pandas/core/arrays/masked.py:60: UserWarning: Pandas requires version '1.3.6' or newer of 'bottleneck' (version '1.3.4' currently installed).\n",
      "  from pandas.core import (\n"
     ]
    }
   ],
   "source": [
    "import pandas as pd\n",
    "import csv\n",
    "import scipy.io"
   ]
  },
  {
   "cell_type": "code",
   "execution_count": 2,
   "metadata": {},
   "outputs": [],
   "source": [
    "data_folder_path = '/Users/yigitfatihcakilli/acarlab_projects/yeast_dataset_compiled/sc-Deletion_Mariona/deletion_mariona_data/data_control/'\n",
    "\n",
    "count_matrix = scipy.io.mmread(data_folder_path + \"raw_counts.mtx\").T \n",
    "count_matrix_array = count_matrix.toarray()\n",
    "\n",
    "barcodes = pd.read_csv(data_folder_path + \"cells.csv\")\n",
    "barcodes.columns = [\"cell_barcodes\"]\n",
    "\n",
    "genes = pd.read_csv(data_folder_path + \"genes.csv\")\n",
    "genes.columns = [ \"gene_name\"]\n",
    "\n",
    "df_expr = pd.DataFrame(count_matrix_array, index = barcodes[\"cell_barcodes\"].values, columns = genes[\"gene_name\"].values)\n"
   ]
  },
  {
   "cell_type": "code",
   "execution_count": 4,
   "metadata": {},
   "outputs": [],
   "source": [
    "mutant_folder_path = '/Users/yigitfatihcakilli/acarlab_projects/yeast_dataset_compiled/sc-Deletion_Mariona/deletion_mariona_data/data_control/'\n",
    "mutant_assignments = pd.read_csv(mutant_folder_path + 'mutant_assignment_control.csv', index_col = 0)"
   ]
  }
 ],
 "metadata": {
  "kernelspec": {
   "display_name": "cwq",
   "language": "python",
   "name": "python3"
  },
  "language_info": {
   "codemirror_mode": {
    "name": "ipython",
    "version": 3
   },
   "file_extension": ".py",
   "mimetype": "text/x-python",
   "name": "python",
   "nbconvert_exporter": "python",
   "pygments_lexer": "ipython3",
   "version": "3.9.12"
  },
  "orig_nbformat": 4
 },
 "nbformat": 4,
 "nbformat_minor": 2
}
